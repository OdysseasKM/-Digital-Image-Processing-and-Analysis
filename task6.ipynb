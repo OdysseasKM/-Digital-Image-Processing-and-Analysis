{
 "cells": [
  {
   "cell_type": "code",
   "execution_count": null,
   "metadata": {},
   "outputs": [],
   "source": [
    "import cv2\n",
    "import numpy as np\n",
    "import matplotlib.pyplot as plt\n",
    "\n",
    "# Load the image\n",
    "image = cv2.imread('hallway.png', cv2.IMREAD_GRAYSCALE)\n",
    "\n",
    "# Estimate gradient components using Sobel masks\n",
    "grad_x = cv2.Sobel(image, cv2.CV_64F, 1, 0, ksize=3)\n",
    "grad_y = cv2.Sobel(image, cv2.CV_64F, 0, 1, ksize=3)\n",
    "\n",
    "# Absolute values of gradients\n",
    "abs_grad_x = cv2.convertScaleAbs(grad_x)\n",
    "abs_grad_y = cv2.convertScaleAbs(grad_y)\n",
    "\n",
    "# Total gradient magnitude\n",
    "grad_magnitude = cv2.addWeighted(abs_grad_x, 0.5, abs_grad_y, 0.5, 0)\n",
    "\n",
    "# Gamma correction factor\n",
    "gamma = 0.5\n",
    "\n",
    "# Apply gamma correction to each image\n",
    "abs_grad_x_corrected = np.power(abs_grad_x / float(np.max(abs_grad_x)), gamma)\n",
    "abs_grad_y_corrected = np.power(abs_grad_y / float(np.max(abs_grad_y)), gamma)\n",
    "grad_magnitude_corrected = np.power(grad_magnitude / float(np.max(grad_magnitude)), gamma)\n",
    "\n",
    "# Display absolute gradient values and gradient magnitude\n",
    "plt.figure(figsize=(15, 5))\n",
    "\n",
    "plt.subplot(1, 3, 1)\n",
    "plt.imshow(abs_grad_x_corrected, cmap='gray')\n",
    "plt.title('Gradient X (Gamma Corrected)')\n",
    "plt.xticks([]), plt.yticks([])\n",
    "\n",
    "plt.subplot(1, 3, 2)\n",
    "plt.imshow(abs_grad_y_corrected, cmap='gray')\n",
    "plt.title('Gradient Y (Gamma Corrected)')\n",
    "plt.xticks([]), plt.yticks([])\n",
    "\n",
    "plt.subplot(1, 3, 3)\n",
    "plt.imshow(grad_magnitude_corrected, cmap='gray')\n",
    "plt.title('Gradient Magnitude (Gamma Corrected)')\n",
    "plt.xticks([]), plt.yticks([])\n",
    "\n",
    "plt.tight_layout()\n",
    "plt.show()\n"
   ]
  },
  {
   "cell_type": "code",
   "execution_count": null,
   "metadata": {},
   "outputs": [],
   "source": [
    "# Apply global thresholding to the gradient magnitude image\n",
    "threshold_value =35\n",
    "_, thresholded_image = cv2.threshold(grad_magnitude, threshold_value, 255, cv2.THRESH_BINARY)\n",
    "\n",
    "# Display histogram of gradient magnitude and the chosen threshold\n",
    "plt.hist(grad_magnitude.flatten(), bins=50, color='c')\n",
    "plt.axvline(x=threshold_value, color='r', linestyle='--', linewidth=2)\n",
    "plt.title('Gradient Magnitude Histogram')\n",
    "plt.xlabel('Gradient Magnitude')\n",
    "plt.ylabel('Frequency')\n",
    "plt.show()\n",
    "\n",
    "# Display the thresholded image\n",
    "plt.imshow(thresholded_image, cmap='gray')\n",
    "plt.title('Thresholded Image')\n",
    "plt.axis('off')\n",
    "plt.show()\n"
   ]
  },
  {
   "cell_type": "code",
   "execution_count": null,
   "metadata": {},
   "outputs": [],
   "source": [
    "\n",
    "lines = cv2.HoughLinesP(thresholded_image, 1, np.pi/180, threshold=25, minLineLength=100, maxLineGap=10)\n",
    "\n",
    "# Draw detected lines on the original image\n",
    "line_image = np.copy(image)\n",
    "if lines is not None:\n",
    "    for line in lines:\n",
    "        x1, y1, x2, y2 = line[0]\n",
    "        cv2.line(line_image, (x1, y1), (x2, y2), (255, 0, 0), 2)\n",
    "\n",
    "# Display the image with detected lines\n",
    "plt.imshow(cv2.cvtColor(line_image, cv2.COLOR_BGR2RGB))\n",
    "plt.title('Detected Lines')\n",
    "plt.axis('off')\n",
    "plt.show()"
   ]
  }
 ],
 "metadata": {
  "kernelspec": {
   "display_name": "Image_Analysis",
   "language": "python",
   "name": "python3"
  },
  "language_info": {
   "codemirror_mode": {
    "name": "ipython",
    "version": 3
   },
   "file_extension": ".py",
   "mimetype": "text/x-python",
   "name": "python",
   "nbconvert_exporter": "python",
   "pygments_lexer": "ipython3",
   "version": "3.11.3"
  }
 },
 "nbformat": 4,
 "nbformat_minor": 2
}
