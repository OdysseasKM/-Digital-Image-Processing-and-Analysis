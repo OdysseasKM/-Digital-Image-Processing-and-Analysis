{
 "cells": [
  {
   "cell_type": "code",
   "execution_count": null,
   "metadata": {},
   "outputs": [],
   "source": [
    "import cv2\n",
    "import matplotlib.pyplot as plt\n",
    "\n",
    "# Load the images\n",
    "image_paths = ['dark_road_1.jpg', 'dark_road_2.jpg', 'dark_road_3.jpg']\n",
    "images = [cv2.imread(path, cv2.IMREAD_GRAYSCALE) for path in image_paths]\n",
    "\n",
    "# Display histograms and images\n",
    "plt.figure(figsize=(15, 10))\n",
    "for i, (image, path) in enumerate(zip(images, image_paths)):\n",
    "    # Display image\n",
    "    plt.subplot(3, 2, 2*i + 1)\n",
    "    plt.imshow(image, cmap='gray')\n",
    "    plt.title(f'Image {i+1}')\n",
    "    plt.axis('off')\n",
    "    \n",
    "    # Display histogram\n",
    "    plt.subplot(3, 2, 2*i + 2)\n",
    "    plt.hist(image.ravel(), bins=256, color='black', alpha=0.7)\n",
    "    plt.title(f'Image {i+1} Histogram')\n",
    "    plt.xlabel('Pixel Value')\n",
    "    plt.ylabel('Frequency')\n",
    "\n",
    "plt.tight_layout()\n",
    "plt.show()\n"
   ]
  },
  {
   "cell_type": "code",
   "execution_count": null,
   "metadata": {},
   "outputs": [],
   "source": [
    "# Apply global histogram equalization\n",
    "equalized_images = [cv2.equalizeHist(image) for image in images]\n",
    "\n",
    "# Display modified images and their histograms\n",
    "plt.figure(figsize=(15, 5))\n",
    "for i, (image, equalized_image) in enumerate(zip(images, equalized_images)):\n",
    "    plt.subplot(2, 3, i + 1)\n",
    "    plt.imshow(equalized_image, cmap='gray')\n",
    "    plt.title(f'Equalized Image {i+1}')\n",
    "    plt.axis('off')\n",
    "    plt.subplot(2, 3, i + 4)\n",
    "    plt.hist(equalized_image.ravel(), bins=256, color='black', alpha=0.7)\n",
    "    plt.title(f'Equalized Image {i+1} Histogram')\n",
    "    plt.xlabel('Pixel Value')\n",
    "    plt.ylabel('Frequency')\n",
    "plt.tight_layout()\n",
    "plt.show()\n"
   ]
  },
  {
   "cell_type": "code",
   "execution_count": null,
   "metadata": {},
   "outputs": [],
   "source": [
    "# Apply local histogram equalization\n",
    "clahe = cv2.createCLAHE(clipLimit=6.5, tileGridSize=(9, 9))  # Adjust parameters as needed\n",
    "clahe_images = [clahe.apply(image) for image in images]\n",
    "\n",
    "# Display modified images and their histograms\n",
    "plt.figure(figsize=(15, 5))\n",
    "for i, (image, clahe_image) in enumerate(zip(images, clahe_images)):\n",
    "    plt.subplot(2, 3, i + 1)\n",
    "    plt.imshow(clahe_image, cmap='gray')\n",
    "    plt.title(f'Equalized Image {i+1}')\n",
    "    plt.axis('off')\n",
    "    plt.subplot(2, 3, i + 4)\n",
    "    plt.hist(clahe_image.ravel(), bins=256, color='black', alpha=0.7)\n",
    "    plt.title(f'Equalized Image {i+1} Histogram')\n",
    "    plt.xlabel('Pixel Value')\n",
    "    plt.ylabel('Frequency')\n",
    "plt.tight_layout()\n",
    "plt.show()\n"
   ]
  }
 ],
 "metadata": {
  "kernelspec": {
   "display_name": "Image_Analysis",
   "language": "python",
   "name": "python3"
  },
  "language_info": {
   "codemirror_mode": {
    "name": "ipython",
    "version": 3
   },
   "file_extension": ".py",
   "mimetype": "text/x-python",
   "name": "python",
   "nbconvert_exporter": "python",
   "pygments_lexer": "ipython3",
   "version": "3.11.3"
  }
 },
 "nbformat": 4,
 "nbformat_minor": 2
}
