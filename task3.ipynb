{
 "cells": [
  {
   "cell_type": "code",
   "execution_count": 29,
   "metadata": {},
   "outputs": [
    {
     "name": "stdout",
     "output_type": "stream",
     "text": [
      "PSNR of noisy image: 6.16 dB\n",
      "PSNR of image with moving average filter: 9.00 dB\n",
      "PSNR of image with median filter: 14.01 dB\n"
     ]
    }
   ],
   "source": [
    "import cv2\n",
    "import numpy as np\n",
    "from skimage.metrics import peak_signal_noise_ratio\n",
    "\n",
    "# Load the image\n",
    "image = cv2.imread('board.png', cv2.IMREAD_GRAYSCALE)\n",
    "\n",
    "# Desired PSNR\n",
    "target_psnr = 15\n",
    "\n",
    "# Calculate noise standard deviation to achieve target PSNR\n",
    "noise_std = np.std(image) / (10 ** (target_psnr / 20))\n",
    "\n",
    "# Generate Gaussian noise with the calculated standard deviation\n",
    "noise = np.random.normal(0, noise_std, size=image.shape)\n",
    "# Convert noise to the same data type as image\n",
    "noise = noise.astype(np.uint8)\n",
    "\n",
    "# Add noise to the image\n",
    "noisy_image = cv2.add(image, noise)\n",
    "\n",
    "\n",
    "# Apply moving average filter\n",
    "kernel_size = (3, 7)  # You can adjust the kernel size\n",
    "filtered_mean = cv2.blur(noisy_image, kernel_size)\n",
    "\n",
    "# Apply median filter\n",
    "filtered_median = cv2.medianBlur(noisy_image, 29)  # You can adjust the kernel size\n",
    "\n",
    "# Calculate PSNR for noisy image\n",
    "psnr_noisy = peak_signal_noise_ratio(image, noisy_image)\n",
    "\n",
    "# Calculate PSNR for filtered images\n",
    "psnr_mean = peak_signal_noise_ratio(image, filtered_mean)\n",
    "psnr_median = peak_signal_noise_ratio(image, filtered_median)\n",
    "\n",
    "# Print PSNR values\n",
    "print(f\"PSNR of noisy image: {psnr_noisy:.2f} dB\")\n",
    "print(f\"PSNR of image with moving average filter: {psnr_mean:.2f} dB\")\n",
    "print(f\"PSNR of image with median filter: {psnr_median:.2f} dB\")\n"
   ]
  },
  {
   "cell_type": "code",
   "execution_count": 31,
   "metadata": {},
   "outputs": [
    {
     "name": "stdout",
     "output_type": "stream",
     "text": [
      "PSNR of noisy image with impulsive noise: 8.01 dB\n",
      "PSNR of image with moving average filter: 12.22 dB\n",
      "PSNR of image with median filter: 12.81 dB\n"
     ]
    }
   ],
   "source": [
    "import cv2\n",
    "import numpy as np\n",
    "from skimage.metrics import peak_signal_noise_ratio\n",
    "\n",
    "# Load the image\n",
    "image = cv2.imread('board.png', cv2.IMREAD_GRAYSCALE)\n",
    "\n",
    "# Define the noise density (probability)\n",
    "noise_density = 0.3\n",
    "\n",
    "# Create a binary mask with the specified noise density\n",
    "mask = np.random.choice([0, 1], size=image.shape, p=[1-noise_density, noise_density])\n",
    "\n",
    "# Apply the mask to create the impulsive noise\n",
    "impulsive_noise = np.where(mask, 255, 0)\n",
    "\n",
    "# Convert impulsive noise to the same data type as image\n",
    "impulsive_noise = impulsive_noise.astype(np.uint8)\n",
    "\n",
    "# Add the impulsive noise to the image\n",
    "noisy_image = cv2.add(image, impulsive_noise)\n",
    "\n",
    "\n",
    "# Apply moving average filter\n",
    "kernel_size = (3, 3)  # You can adjust the kernel size\n",
    "filtered_mean = cv2.blur(noisy_image, kernel_size)\n",
    "\n",
    "# Apply median filter\n",
    "filtered_median = cv2.medianBlur(noisy_image, 3)  # You can adjust the kernel size\n",
    "\n",
    "# Calculate PSNR for noisy image\n",
    "psnr_noisy = peak_signal_noise_ratio(image, noisy_image)\n",
    "\n",
    "# Calculate PSNR for filtered images\n",
    "psnr_mean = peak_signal_noise_ratio(image, filtered_mean)\n",
    "psnr_median = peak_signal_noise_ratio(image, filtered_median)\n",
    "\n",
    "# Print PSNR values\n",
    "print(f\"PSNR of noisy image with impulsive noise: {psnr_noisy:.2f} dB\")\n",
    "print(f\"PSNR of image with moving average filter: {psnr_mean:.2f} dB\")\n",
    "print(f\"PSNR of image with median filter: {psnr_median:.2f} dB\")\n"
   ]
  }
 ],
 "metadata": {
  "kernelspec": {
   "display_name": "Image_Analysis",
   "language": "python",
   "name": "python3"
  },
  "language_info": {
   "codemirror_mode": {
    "name": "ipython",
    "version": 3
   },
   "file_extension": ".py",
   "mimetype": "text/x-python",
   "name": "python",
   "nbconvert_exporter": "python",
   "pygments_lexer": "ipython3",
   "version": "3.11.3"
  }
 },
 "nbformat": 4,
 "nbformat_minor": 2
}
