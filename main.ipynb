{
 "cells": [
  {
   "cell_type": "code",
   "execution_count": 1,
   "metadata": {},
   "outputs": [],
   "source": [
    "import cv2\n",
    "import numpy as np\n",
    "\n",
    "# Διαβάζουμε την εικόνα\n",
    "image = cv2.imread('leaf.jpg')\n",
    "\n",
    "# Μετατροπή σε κλίμακα του γκρι\n",
    "gray_image = cv2.cvtColor(image, cv2.COLOR_BGR2GRAY)\n",
    "\n",
    "# Κατωφλίωση\n",
    "threshold_value = 220\n",
    "_, binary_image = cv2.threshold(gray_image, threshold_value, 255, cv2.THRESH_BINARY)\n",
    "\n",
    "# Εμφάνιση των εικόνων\n",
    "cv2.imshow('Grayscale Image', gray_image)\n",
    "cv2.imshow('Binary Image', binary_image)\n",
    "cv2.waitKey(0)\n",
    "cv2.destroyAllWindows()\n",
    " "
   ]
  },
  {
   "cell_type": "code",
   "execution_count": 2,
   "metadata": {},
   "outputs": [],
   "source": [
    "# Find contours using the Moore boundary tracing algorithm\n",
    "contours, _ = cv2.findContours(binary_image, cv2.RETR_EXTERNAL, cv2.CHAIN_APPROX_SIMPLE)\n",
    "\n",
    "# Select the largest contour\n",
    "largest_contour = max(contours, key=cv2.contourArea)\n",
    "\n",
    "# Create a white background image\n",
    "contour_image = np.ones_like(binary_image) * 255\n",
    "\n",
    "# Draw the contour with green color (0, 255, 0) on the white background image\n",
    "cv2.drawContours(contour_image, [largest_contour], -1, (0, 255, 0), thickness=2)\n",
    "\n",
    "# Display the result\n",
    "cv2.imshow('Contour Image', contour_image)\n",
    "cv2.waitKey(0)\n",
    "cv2.destroyAllWindows()\n"
   ]
  },
  {
   "cell_type": "code",
   "execution_count": 3,
   "metadata": {},
   "outputs": [],
   "source": [
    "# Get the bounding rectangle of the contour\n",
    "x, y, w, h = cv2.boundingRect(largest_contour)\n",
    "\n",
    "# Create a new image with the dimensions of the bounding rectangle\n",
    "contour_image = np.ones((h, w, 3), dtype=np.uint8) * 255\n",
    "\n",
    "# Adjust the contour points so that they fit within the new image\n",
    "adjusted_contour = largest_contour - np.array([x, y])\n",
    "\n",
    "# Draw the contour with green color (0, 255, 0) on the new image\n",
    "cv2.drawContours(contour_image, [adjusted_contour], -1, (0, 255, 0), thickness=2)\n",
    "\n",
    "# Display the result\n",
    "cv2.imshow('Contour Image', contour_image)\n",
    "cv2.waitKey(0)\n",
    "cv2.destroyAllWindows()\n"
   ]
  },
  {
   "cell_type": "code",
   "execution_count": 4,
   "metadata": {},
   "outputs": [
    {
     "name": "stdout",
     "output_type": "stream",
     "text": [
      "[[[1078.  718.]]\n",
      "\n",
      " [[-180.  180.]]\n",
      "\n",
      " [[   0.    0.]]\n",
      "\n",
      " [[-898. -898.]]]\n"
     ]
    }
   ],
   "source": [
    "# Υπολογισμός των περιγραφέων Fourier\n",
    "adjusted_contour_float32 = adjusted_contour.astype(np.float32)\n",
    "fourier_descriptors = cv2.dft(adjusted_contour_float32, flags=cv2.DFT_COMPLEX_OUTPUT)\n",
    "print(fourier_descriptors)"
   ]
  },
  {
   "cell_type": "code",
   "execution_count": 8,
   "metadata": {},
   "outputs": [
    {
     "name": "stdout",
     "output_type": "stream",
     "text": [
      "Reconstructed Contour 100%:\n",
      "[[  0]\n",
      " [  0]\n",
      " [255]\n",
      " [255]]\n",
      "Number of non-zero elements: 2\n"
     ]
    },
    {
     "ename": "error",
     "evalue": "OpenCV(4.9.0) D:\\a\\opencv-python\\opencv-python\\opencv\\modules\\imgproc\\src\\drawing.cpp:2538: error: (-215:Assertion failed) npoints > 0 in function 'cv::drawContours'\n",
     "output_type": "error",
     "traceback": [
      "\u001b[1;31m---------------------------------------------------------------------------\u001b[0m",
      "\u001b[1;31merror\u001b[0m                                     Traceback (most recent call last)",
      "Cell \u001b[1;32mIn[8], line 38\u001b[0m\n\u001b[0;32m     35\u001b[0m contour_image \u001b[38;5;241m=\u001b[39m np\u001b[38;5;241m.\u001b[39mones_like(reconstructed_contour) \u001b[38;5;241m*\u001b[39m \u001b[38;5;241m255\u001b[39m\n\u001b[0;32m     37\u001b[0m \u001b[38;5;66;03m# Draw the reconstructed contour in black\u001b[39;00m\n\u001b[1;32m---> 38\u001b[0m \u001b[43mcv2\u001b[49m\u001b[38;5;241;43m.\u001b[39;49m\u001b[43mdrawContours\u001b[49m\u001b[43m(\u001b[49m\u001b[43mcontour_image\u001b[49m\u001b[43m,\u001b[49m\u001b[43m \u001b[49m\u001b[43m[\u001b[49m\u001b[43mreconstructed_contour\u001b[49m\u001b[43m]\u001b[49m\u001b[43m,\u001b[49m\u001b[43m \u001b[49m\u001b[38;5;241;43m-\u001b[39;49m\u001b[38;5;241;43m1\u001b[39;49m\u001b[43m,\u001b[49m\u001b[43m \u001b[49m\u001b[43m(\u001b[49m\u001b[38;5;241;43m0\u001b[39;49m\u001b[43m,\u001b[49m\u001b[43m \u001b[49m\u001b[38;5;241;43m0\u001b[39;49m\u001b[43m,\u001b[49m\u001b[43m \u001b[49m\u001b[38;5;241;43m0\u001b[39;49m\u001b[43m)\u001b[49m\u001b[43m,\u001b[49m\u001b[43m \u001b[49m\u001b[43mthickness\u001b[49m\u001b[38;5;241;43m=\u001b[39;49m\u001b[38;5;241;43m2\u001b[39;49m\u001b[43m)\u001b[49m\n\u001b[0;32m     40\u001b[0m \u001b[38;5;66;03m# Display the reconstructed contour\u001b[39;00m\n\u001b[0;32m     41\u001b[0m cv2\u001b[38;5;241m.\u001b[39mimshow(\u001b[38;5;124mf\u001b[39m\u001b[38;5;124m'\u001b[39m\u001b[38;5;124mReconstructed Contour \u001b[39m\u001b[38;5;132;01m{\u001b[39;00mpercent\u001b[38;5;132;01m}\u001b[39;00m\u001b[38;5;124m%\u001b[39m\u001b[38;5;124m'\u001b[39m, contour_image)\n",
      "\u001b[1;31merror\u001b[0m: OpenCV(4.9.0) D:\\a\\opencv-python\\opencv-python\\opencv\\modules\\imgproc\\src\\drawing.cpp:2538: error: (-215:Assertion failed) npoints > 0 in function 'cv::drawContours'\n"
     ]
    }
   ],
   "source": [
    "# Αρχικά, υπολογίζουμε τον αριθμό των περιγραφέων Fourier\n",
    "num_descriptors = fourier_descriptors.shape[0]\n",
    "\n",
    "# Ορίζουμε τα ποσοστά που θέλουμε να χρησιμοποιήσουμε\n",
    "percentages = [100, 50, 10, 1]\n",
    "\n",
    "# Loop through the percentages\n",
    "for percent in percentages:\n",
    "    # Calculate the number of descriptors to use based on the percentage\n",
    "    num_descriptors_to_use = int(percent / 100 * num_descriptors)\n",
    "\n",
    "    # Select the first 'num_descriptors_to_use' Fourier descriptors\n",
    "    selected_descriptors = fourier_descriptors[:num_descriptors_to_use]\n",
    "\n",
    "    # Inverse Fourier transform to reconstruct the contour\n",
    "    reconstructed_contour = cv2.idft(selected_descriptors, flags=cv2.DFT_COMPLEX_INPUT | cv2.DFT_REAL_OUTPUT)\n",
    "\n",
    "    # Extract the real part of the reconstructed contour\n",
    "    reconstructed_contour = np.abs(reconstructed_contour)\n",
    "\n",
    "    # Normalize the reconstructed contour to the range [0, 255]\n",
    "    reconstructed_contour = cv2.normalize(reconstructed_contour, None, 0, 255, cv2.NORM_MINMAX)\n",
    "\n",
    "    # Convert the reconstructed contour to 8-bit unsigned integer\n",
    "    reconstructed_contour = reconstructed_contour.astype(np.uint8)\n",
    "\n",
    "    # Print the reconstructed contour and the number of non-zero elements\n",
    "    print(f\"Reconstructed Contour {percent}%:\")\n",
    "    print(reconstructed_contour)\n",
    "    print(f\"Number of non-zero elements: {np.count_nonzero(reconstructed_contour)}\")\n",
    "\n",
    "    # Check if the reconstructed contour contains any valid points\n",
    "    if np.count_nonzero(reconstructed_contour) > 0:\n",
    "        # Create a white background image\n",
    "        contour_image = np.ones_like(reconstructed_contour) * 255\n",
    "\n",
    "        # Draw the reconstructed contour in black\n",
    "        cv2.drawContours(contour_image, [reconstructed_contour], -1, (0, 0, 0), thickness=2)\n",
    "\n",
    "        # Display the reconstructed contour\n",
    "        cv2.imshow(f'Reconstructed Contour {percent}%', contour_image)\n",
    "        cv2.waitKey(0)\n",
    "    else:\n",
    "        print(f\"No valid contour points found for {percent}%\")\n",
    "\n",
    "cv2.destroyAllWindows()\n",
    "\n"
   ]
  }
 ],
 "metadata": {
  "kernelspec": {
   "display_name": "Image_Analysis",
   "language": "python",
   "name": "python3"
  },
  "language_info": {
   "codemirror_mode": {
    "name": "ipython",
    "version": 3
   },
   "file_extension": ".py",
   "mimetype": "text/x-python",
   "name": "python",
   "nbconvert_exporter": "python",
   "pygments_lexer": "ipython3",
   "version": "3.11.3"
  }
 },
 "nbformat": 4,
 "nbformat_minor": 2
}
